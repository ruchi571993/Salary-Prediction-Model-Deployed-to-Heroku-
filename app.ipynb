{
 "cells": [
  {
   "cell_type": "code",
   "execution_count": 1,
   "metadata": {},
   "outputs": [],
   "source": [
    "import numpy as np\n",
    "from flask import Flask, request, jsonify, render_template\n",
    "import pickle"
   ]
  },
  {
   "cell_type": "code",
   "execution_count": 2,
   "metadata": {},
   "outputs": [],
   "source": [
    "app = Flask(__name__)\n",
    "model = pickle.load(open('model.pkl', 'rb'))"
   ]
  },
  {
   "cell_type": "code",
   "execution_count": 3,
   "metadata": {},
   "outputs": [
    {
     "name": "stderr",
     "output_type": "stream",
     "text": [
      " * Running on http://127.0.0.1:5000/ (Press CTRL+C to quit)\n",
      "127.0.0.1 - - [14/May/2020 20:45:43] \"GET / HTTP/1.1\" 200 -\n",
      "127.0.0.1 - - [14/May/2020 20:45:43] \"GET /static/css/style.css HTTP/1.1\" 404 -\n",
      "127.0.0.1 - - [14/May/2020 20:45:44] \"GET /favicon.ico HTTP/1.1\" 404 -\n",
      "127.0.0.1 - - [14/May/2020 20:45:55] \"POST /predict_api HTTP/1.1\" 404 -\n",
      "127.0.0.1 - - [14/May/2020 20:46:29] \"POST /predict_api HTTP/1.1\" 404 -\n",
      "127.0.0.1 - - [14/May/2020 20:47:43] \"POST /predict HTTP/1.1\" 200 -\n",
      "127.0.0.1 - - [14/May/2020 20:47:43] \"GET /static/css/style.css HTTP/1.1\" 404 -\n"
     ]
    }
   ],
   "source": [
    "@app.route('/')\n",
    "def home():\n",
    "    return render_template('index.html')\n",
    "\n",
    "@app.route('/predict',methods=['POST'])\n",
    "def predict():\n",
    "    int_features = [int(x) for x in request.form.values()]\n",
    "    final_features = [np.array(int_features)]\n",
    "    prediction = model.predict(final_features)\n",
    "    \n",
    "    output = round(prediction[0], 2)\n",
    "    return render_template('index.html', prediction_text='Employee Salary should be $ {}'.format(output))\n",
    "\n",
    "\n",
    "#@app.route('/predict_api',methods=['POST'])\n",
    "#def predict_api():\n",
    "    #For direct API calls trought request\n",
    "    \n",
    "    #data = request.get_json(force=True)\n",
    "    #prediction = model.predict([np.array(list(data.values()))])\n",
    "\n",
    "    #output = prediction[0]\n",
    "    #return jsonify(output)\n",
    "\n",
    "if __name__ == \"__main__\":\n",
    "    app.run()\n"
   ]
  },
  {
   "cell_type": "code",
   "execution_count": 4,
   "metadata": {},
   "outputs": [
    {
     "name": "stderr",
     "output_type": "stream",
     "text": [
      "No traceback available to show.\n"
     ]
    }
   ],
   "source": [
    "%tb"
   ]
  },
  {
   "cell_type": "code",
   "execution_count": null,
   "metadata": {},
   "outputs": [],
   "source": []
  }
 ],
 "metadata": {
  "kernelspec": {
   "display_name": "Python 3",
   "language": "python",
   "name": "python3"
  },
  "language_info": {
   "codemirror_mode": {
    "name": "ipython",
    "version": 3
   },
   "file_extension": ".py",
   "mimetype": "text/x-python",
   "name": "python",
   "nbconvert_exporter": "python",
   "pygments_lexer": "ipython3",
   "version": "3.6.4"
  }
 },
 "nbformat": 4,
 "nbformat_minor": 2
}
